{
 "cells": [
  {
   "cell_type": "markdown",
   "id": "1cf09337-3e20-4eb1-ade2-1bb6f86493ea",
   "metadata": {},
   "source": [
    "<h1><center><b>Computer Laboratory III : Computational Intelligence Assignment - 3</b></center></h1>\n",
    "<h2 align=\"right\"><b>42557 - Ashish Ransing</b></h2> "
   ]
  },
  {
   "cell_type": "markdown",
   "id": "7a5e75df-2c74-4baf-a9e2-99cdb4cfaebf",
   "metadata": {},
   "source": [
    "## ------------------------------------------------------------------------------------------------------------"
   ]
  },
  {
   "cell_type": "markdown",
   "id": "1232b477-7c67-49cb-b499-a578a4c796ec",
   "metadata": {},
   "source": [
    "### **Problem Statement:**\n",
    "Implementation of Clonal selection algorithm using Python.\r"
   ]
  },
  {
   "cell_type": "markdown",
   "id": "8b007efb-8a87-4440-8c36-9f4f991079ab",
   "metadata": {},
   "source": [
    "## ------------------------------------------------------------------------------------------------------------"
   ]
  },
  {
   "cell_type": "markdown",
   "id": "dfdf75d2-0493-4ed7-af7d-4d5322f95172",
   "metadata": {},
   "source": [
    "#### **Importing Libraries**"
   ]
  },
  {
   "cell_type": "code",
   "execution_count": 1,
   "id": "42a33b78-642a-4b68-9f96-157ea3fa1f08",
   "metadata": {},
   "outputs": [],
   "source": [
    "import numpy as np"
   ]
  },
  {
   "cell_type": "markdown",
   "id": "49a02b86-e775-474a-a3ad-ed0399a11a24",
   "metadata": {},
   "source": [
    "## ------------------------------------------------------------------------------------------------------------"
   ]
  },
  {
   "cell_type": "markdown",
   "id": "e5db6f6d-4295-48e2-8f3d-98afb8907d6c",
   "metadata": {},
   "source": [
    "#### **Step 1: Defining Objective function**"
   ]
  },
  {
   "cell_type": "code",
   "execution_count": 2,
   "id": "a619c7f0-f3de-41d8-8786-bd4194b43aca",
   "metadata": {},
   "outputs": [],
   "source": [
    "# Example: minimize f(x) = x^2)\n",
    "def objective_function(x):\n",
    "    return x**2"
   ]
  },
  {
   "cell_type": "markdown",
   "id": "60c8f10c-9cb5-497a-8871-487a68898dc2",
   "metadata": {},
   "source": [
    "## ------------------------------------------------------------------------------------------------------------"
   ]
  },
  {
   "cell_type": "markdown",
   "id": "7ff61f63-c9cd-4cce-9704-c1433f7c5179",
   "metadata": {},
   "source": [
    "#### **Step 2: Clonal Selection Algorithm**"
   ]
  },
  {
   "cell_type": "code",
   "execution_count": 3,
   "id": "995963ea-2540-4a6d-ac38-2978f3cb3b18",
   "metadata": {},
   "outputs": [],
   "source": [
    "def clonal_selection_algorithm(population_size, num_clones, mutation_rate, num_generations, search_space):\n",
    "    # Initialize population\n",
    "    population = np.random.uniform(search_space[0], search_space[1], population_size)\n",
    "    \n",
    "    for generation in range(num_generations):\n",
    "        # Evaluate fitness\n",
    "        fitness = np.array([objective_function(x) for x in population])\n",
    "        \n",
    "        # Select best antibodies\n",
    "        sorted_indices = np.argsort(fitness)\n",
    "        selected_antibodies = population[sorted_indices[:num_clones]]\n",
    "        \n",
    "        # Clone and mutate\n",
    "        clones = np.repeat(selected_antibodies, num_clones)\n",
    "        mutations = np.random.normal(0, mutation_rate, clones.shape)\n",
    "        clones = clones + mutations\n",
    "        clones = np.clip(clones, search_space[0], search_space[1])  # Ensure clones stay within search space\n",
    "        \n",
    "        # Replace population\n",
    "        population = np.concatenate((clones, np.random.uniform(search_space[0], search_space[1], population_size - num_clones)))\n",
    "        \n",
    "        # Track best solution\n",
    "        best_fitness = np.min(fitness)\n",
    "        best_solution = population[np.argmin(fitness)]\n",
    "        print(f\"Generation {generation + 1}: Best Fitness = {best_fitness}, Best Solution = {best_solution}\")\n",
    "    \n",
    "    return best_solution, best_fitness"
   ]
  },
  {
   "cell_type": "markdown",
   "id": "b0c12619-c92b-4740-8c62-98701ca607fb",
   "metadata": {},
   "source": [
    "## ------------------------------------------------------------------------------------------------------------"
   ]
  },
  {
   "cell_type": "markdown",
   "id": "da2976b4-e7bd-48db-b693-9ea55d2099ff",
   "metadata": {},
   "source": [
    "#### **Step 3: Setting Parameters**"
   ]
  },
  {
   "cell_type": "code",
   "execution_count": 4,
   "id": "9dc28aae-419f-4127-b8c6-d1439dab0814",
   "metadata": {},
   "outputs": [],
   "source": [
    "# Parameters\n",
    "population_size = 20\n",
    "num_clones = 5\n",
    "mutation_rate = 0.1\n",
    "num_generations = 50\n",
    "search_space = (-10, 10)  # Define the search space for x"
   ]
  },
  {
   "cell_type": "markdown",
   "id": "1ce1f4fb-cc10-4224-9fc3-453fd08c5e8f",
   "metadata": {},
   "source": [
    "## ------------------------------------------------------------------------------------------------------------"
   ]
  },
  {
   "cell_type": "markdown",
   "id": "7c76c79e-46f0-4919-b394-c1672f6c842d",
   "metadata": {},
   "source": [
    "#### **Step 4: Extracting Best Solution**"
   ]
  },
  {
   "cell_type": "code",
   "execution_count": 5,
   "id": "f6015deb-af77-4766-84e2-fd3030502b7c",
   "metadata": {},
   "outputs": [
    {
     "name": "stdout",
     "output_type": "stream",
     "text": [
      "Generation 1: Best Fitness = 0.001044745429238418, Best Solution = -1.4717907192252226\n",
      "Generation 2: Best Fitness = 0.0009664636043952366, Best Solution = -0.02072690782584769\n",
      "Generation 3: Best Fitness = 9.879808572155088e-06, Best Solution = 0.11585646052059878\n",
      "Generation 4: Best Fitness = 6.965394262363459e-05, Best Solution = 0.012436441998028666\n",
      "Generation 5: Best Fitness = 7.161522648243052e-05, Best Solution = 0.013952983390295791\n",
      "Generation 6: Best Fitness = 1.2260204521991878e-05, Best Solution = -0.06856737302445334\n",
      "Generation 7: Best Fitness = 1.9506324612955154e-05, Best Solution = -0.014176156948621774\n",
      "Generation 8: Best Fitness = 1.4438110863594768e-05, Best Solution = 0.0601360027167179\n",
      "Generation 9: Best Fitness = 5.533434340674462e-05, Best Solution = -0.0126493826818102\n",
      "Generation 10: Best Fitness = 1.4316858326814064e-07, Best Solution = 0.01671623068665988\n",
      "Generation 11: Best Fitness = 4.460592897571071e-05, Best Solution = 0.06362643588273231\n",
      "Generation 12: Best Fitness = 1.0799142715027096e-06, Best Solution = 0.07719439320407569\n",
      "Generation 13: Best Fitness = 5.654923777535503e-07, Best Solution = -0.14588889789522996\n",
      "Generation 14: Best Fitness = 1.8662875876773954e-07, Best Solution = -0.05076779023290734\n",
      "Generation 15: Best Fitness = 2.1690950492393526e-05, Best Solution = -0.15705863654676994\n",
      "Generation 16: Best Fitness = 8.102094625299804e-07, Best Solution = 0.10909398093204603\n",
      "Generation 17: Best Fitness = 0.00014118605282801249, Best Solution = -0.11926506203915814\n",
      "Generation 18: Best Fitness = 3.4167424541465486e-05, Best Solution = 0.1767211396454556\n",
      "Generation 19: Best Fitness = 0.00015881551311607386, Best Solution = -0.03203986851011062\n",
      "Generation 20: Best Fitness = 1.4526432942724539e-06, Best Solution = -0.176136464705931\n",
      "Generation 21: Best Fitness = 3.134678266604421e-05, Best Solution = 0.04153351276095664\n",
      "Generation 22: Best Fitness = 2.695658187650632e-05, Best Solution = 0.10706505317402285\n",
      "Generation 23: Best Fitness = 1.5196933200382157e-06, Best Solution = -0.08676477341786343\n",
      "Generation 24: Best Fitness = 7.953970572385048e-06, Best Solution = 0.09066573051706879\n",
      "Generation 25: Best Fitness = 2.035647352857161e-06, Best Solution = 0.13982156148861197\n",
      "Generation 26: Best Fitness = 7.384590244243607e-05, Best Solution = -0.00819567024874309\n",
      "Generation 27: Best Fitness = 2.122612160132528e-10, Best Solution = 0.009184860361884714\n",
      "Generation 28: Best Fitness = 8.436165986732101e-05, Best Solution = 0.24087716505697362\n",
      "Generation 29: Best Fitness = 0.0001492348177343549, Best Solution = -0.13252635355003298\n",
      "Generation 30: Best Fitness = 5.8705427186394795e-06, Best Solution = 0.05043813299081477\n",
      "Generation 31: Best Fitness = 0.00019584061230527327, Best Solution = -0.04725140188949685\n",
      "Generation 32: Best Fitness = 0.0004841064566295217, Best Solution = -0.07125677291739053\n",
      "Generation 33: Best Fitness = 0.00016625965385901794, Best Solution = -0.192568233657695\n",
      "Generation 34: Best Fitness = 1.0496770745217573e-05, Best Solution = -0.2463361656171283\n",
      "Generation 35: Best Fitness = 7.529639081969564e-06, Best Solution = 0.026517228388225914\n",
      "Generation 36: Best Fitness = 8.60713745882459e-06, Best Solution = -0.04503576337209696\n",
      "Generation 37: Best Fitness = 4.838610510971796e-06, Best Solution = 0.03058532218422895\n",
      "Generation 38: Best Fitness = 1.5505536684026156e-06, Best Solution = -0.03767560144239662\n",
      "Generation 39: Best Fitness = 2.1630113845367237e-05, Best Solution = -0.0055714818179082425\n",
      "Generation 40: Best Fitness = 3.1041409647282136e-05, Best Solution = -0.04396869004709937\n",
      "Generation 41: Best Fitness = 4.2863231443933726e-05, Best Solution = 0.06877082568008255\n",
      "Generation 42: Best Fitness = 8.085035790568595e-05, Best Solution = 0.008608977465036057\n",
      "Generation 43: Best Fitness = 4.3506821329793016e-05, Best Solution = -0.023310263135791133\n",
      "Generation 44: Best Fitness = 2.559092031720957e-07, Best Solution = -0.18599429516228033\n",
      "Generation 45: Best Fitness = 6.950642440756315e-06, Best Solution = -0.19020244421475743\n",
      "Generation 46: Best Fitness = 1.1632561917045405e-07, Best Solution = -0.10957543241452199\n",
      "Generation 47: Best Fitness = 3.0497958688196567e-05, Best Solution = -0.1035108937548149\n",
      "Generation 48: Best Fitness = 4.109723603305105e-05, Best Solution = -0.09303079508956402\n",
      "Generation 49: Best Fitness = 4.893382282960779e-05, Best Solution = 0.06219100028966487\n",
      "Generation 50: Best Fitness = 5.940346783955308e-05, Best Solution = 0.025787575718337407\n",
      "\n",
      "Final Result:\n",
      "Best Solution: 0.025787575718337407\n",
      "Best Fitness: 5.940346783955308e-05\n"
     ]
    }
   ],
   "source": [
    "best_solution, best_fitness = clonal_selection_algorithm(population_size, num_clones, mutation_rate, num_generations, search_space)\n",
    "print(\"\\nFinal Result:\")\n",
    "print(f\"Best Solution: {best_solution}\")\n",
    "print(f\"Best Fitness: {best_fitness}\")"
   ]
  },
  {
   "cell_type": "markdown",
   "id": "cbe9d2ea-4474-46f1-ace8-e41d80c547d0",
   "metadata": {},
   "source": [
    "## ------------------------------------------------------------------------------------------------------------"
   ]
  }
 ],
 "metadata": {
  "kernelspec": {
   "display_name": "Python 3 (ipykernel)",
   "language": "python",
   "name": "python3"
  },
  "language_info": {
   "codemirror_mode": {
    "name": "ipython",
    "version": 3
   },
   "file_extension": ".py",
   "mimetype": "text/x-python",
   "name": "python",
   "nbconvert_exporter": "python",
   "pygments_lexer": "ipython3",
   "version": "3.11.7"
  }
 },
 "nbformat": 4,
 "nbformat_minor": 5
}
