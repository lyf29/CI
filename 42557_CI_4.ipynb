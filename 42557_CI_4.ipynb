{
 "cells": [
  {
   "cell_type": "markdown",
   "id": "1cf09337-3e20-4eb1-ade2-1bb6f86493ea",
   "metadata": {},
   "source": [
    "<h1><center><b>Computer Laboratory III : Computational Intelligence Assignment - 4</b></center></h1>\n",
    "<h2 align=\"right\"><b>42557 - Ashish Ransing</b></h2> "
   ]
  },
  {
   "cell_type": "markdown",
   "id": "7a5e75df-2c74-4baf-a9e2-99cdb4cfaebf",
   "metadata": {},
   "source": [
    "## ------------------------------------------------------------------------------------------------------------"
   ]
  },
  {
   "cell_type": "markdown",
   "id": "1232b477-7c67-49cb-b499-a578a4c796ec",
   "metadata": {},
   "source": [
    "### **Problem Statement:**\n",
    "To apply the artificial immune pattern recognition to perform a task of structure damage \n",
    "Classification\r"
   ]
  },
  {
   "cell_type": "markdown",
   "id": "8b007efb-8a87-4440-8c36-9f4f991079ab",
   "metadata": {},
   "source": [
    "## ------------------------------------------------------------------------------------------------------------"
   ]
  },
  {
   "cell_type": "markdown",
   "id": "dfdf75d2-0493-4ed7-af7d-4d5322f95172",
   "metadata": {},
   "source": [
    "#### **Importing Libraries**"
   ]
  },
  {
   "cell_type": "code",
   "execution_count": 1,
   "id": "42a33b78-642a-4b68-9f96-157ea3fa1f08",
   "metadata": {},
   "outputs": [],
   "source": [
    "import numpy as np\n",
    "import matplotlib.pyplot as plt\n",
    "from sklearn.model_selection import train_test_split\n",
    "from sklearn.metrics import classification_report"
   ]
  },
  {
   "cell_type": "markdown",
   "id": "49a02b86-e775-474a-a3ad-ed0399a11a24",
   "metadata": {},
   "source": [
    "## ------------------------------------------------------------------------------------------------------------"
   ]
  },
  {
   "cell_type": "markdown",
   "id": "e5db6f6d-4295-48e2-8f3d-98afb8907d6c",
   "metadata": {},
   "source": [
    "#### **Step 1: Generate dataset**"
   ]
  },
  {
   "cell_type": "code",
   "execution_count": 2,
   "id": "a619c7f0-f3de-41d8-8786-bd4194b43aca",
   "metadata": {},
   "outputs": [],
   "source": [
    "# Generating dataset (structure condition: damaged = 1, not damaged = 0)\n",
    "def generate_dataset(size=1000):\n",
    "    # Features: [vibration_level, stress_intensity]\n",
    "    # Damaged structures\n",
    "    damaged = np.random.normal(loc=[7.5, 8.0], scale=1.0, size=(size // 2, 2))\n",
    "    \n",
    "    # Not damaged structures\n",
    "    not_damaged = np.random.normal(loc=[2.0, 2.5], scale=1.0, size=(size // 2, 2))\n",
    "\n",
    "    X = np.vstack((damaged, not_damaged))\n",
    "    y = np.array([1] * (size // 2) + [0] * (size // 2))\n",
    "    return X, y"
   ]
  },
  {
   "cell_type": "markdown",
   "id": "60c8f10c-9cb5-497a-8871-487a68898dc2",
   "metadata": {},
   "source": [
    "## ------------------------------------------------------------------------------------------------------------"
   ]
  },
  {
   "cell_type": "markdown",
   "id": "7ff61f63-c9cd-4cce-9704-c1433f7c5179",
   "metadata": {},
   "source": [
    "#### **Step 2: AIS - Negative Selection Algorithm**"
   ]
  },
  {
   "cell_type": "code",
   "execution_count": 3,
   "id": "995963ea-2540-4a6d-ac38-2978f3cb3b18",
   "metadata": {},
   "outputs": [],
   "source": [
    "class AISClassifier:\n",
    "    def __init__(self, num_detectors=100, threshold=1.5):\n",
    "        self.num_detectors = num_detectors\n",
    "        self.threshold = threshold\n",
    "        self.detectors = []\n",
    "\n",
    "    def distance(self, x1, x2):\n",
    "        return np.linalg.norm(x1 - x2)\n",
    "\n",
    "    def train(self, X_train, y_train):\n",
    "        self.detectors = []\n",
    "        normal_data = X_train[y_train == 0]  # Non-damaged\n",
    "        for _ in range(self.num_detectors):\n",
    "            while True:\n",
    "                candidate = np.random.uniform(low=0, high=10, size=2)\n",
    "                if all(self.distance(candidate, nd) > self.threshold for nd in normal_data):\n",
    "                    self.detectors.append(candidate)\n",
    "                    break\n",
    "\n",
    "    def predict(self, X_test):\n",
    "        predictions = []\n",
    "        for x in X_test:\n",
    "            match = any(self.distance(x, d) < self.threshold for d in self.detectors)\n",
    "            predictions.append(1 if match else 0)\n",
    "        return np.array(predictions)"
   ]
  },
  {
   "cell_type": "markdown",
   "id": "b0c12619-c92b-4740-8c62-98701ca607fb",
   "metadata": {},
   "source": [
    "## ------------------------------------------------------------------------------------------------------------"
   ]
  },
  {
   "cell_type": "markdown",
   "id": "da2976b4-e7bd-48db-b693-9ea55d2099ff",
   "metadata": {},
   "source": [
    "#### **Step 3: Training model**"
   ]
  },
  {
   "cell_type": "code",
   "execution_count": 4,
   "id": "9dc28aae-419f-4127-b8c6-d1439dab0814",
   "metadata": {},
   "outputs": [],
   "source": [
    "X, y = generate_dataset(1000)\n",
    "X_train, X_test, y_train, y_test = train_test_split(X, y, test_size=0.2)\n",
    "\n",
    "model = AISClassifier(num_detectors=150, threshold=1.8)\n",
    "model.train(X_train, y_train)\n"
   ]
  },
  {
   "cell_type": "markdown",
   "id": "1ce1f4fb-cc10-4224-9fc3-453fd08c5e8f",
   "metadata": {},
   "source": [
    "## ------------------------------------------------------------------------------------------------------------"
   ]
  },
  {
   "cell_type": "markdown",
   "id": "7c76c79e-46f0-4919-b394-c1672f6c842d",
   "metadata": {},
   "source": [
    "#### **Step 4: Output**"
   ]
  },
  {
   "cell_type": "code",
   "execution_count": 10,
   "id": "f6015deb-af77-4766-84e2-fd3030502b7c",
   "metadata": {},
   "outputs": [
    {
     "data": {
      "text/plain": [
       "array([0, 1, 0, 0, 0, 0, 0, 1, 0, 0, 0, 0, 1, 0, 0, 0, 1, 1, 1, 0, 0, 0,\n",
       "       1, 0, 0, 0, 0, 1, 1, 0, 1, 0, 1, 0, 1, 0, 1, 1, 0, 0, 0, 1, 1, 0,\n",
       "       1, 0, 1, 1, 1, 1, 1, 1, 1, 1, 1, 0, 0, 1, 1, 1, 1, 1, 0, 1, 0, 1,\n",
       "       1, 1, 0, 0, 1, 0, 1, 0, 0, 0, 0, 0, 0, 1, 1, 1, 1, 1, 0, 1, 1, 0,\n",
       "       0, 0, 1, 0, 1, 0, 1, 0, 1, 1, 1, 0, 0, 1, 0, 0, 1, 1, 1, 1, 0, 0,\n",
       "       1, 0, 0, 1, 1, 0, 1, 1, 1, 0, 1, 0, 1, 0, 0, 0, 1, 1, 0, 0, 1, 1,\n",
       "       1, 0, 0, 1, 0, 1, 1, 1, 0, 1, 0, 0, 1, 1, 0, 1, 1, 1, 1, 0, 1, 0,\n",
       "       0, 1, 0, 0, 0, 1, 0, 1, 0, 1, 0, 1, 0, 0, 1, 0, 1, 1, 1, 0, 0, 1,\n",
       "       0, 1, 1, 1, 0, 0, 0, 1, 0, 1, 1, 0, 1, 1, 1, 1, 1, 0, 0, 0, 1, 1,\n",
       "       0, 0])"
      ]
     },
     "execution_count": 10,
     "metadata": {},
     "output_type": "execute_result"
    }
   ],
   "source": [
    "y_pred = model.predict(X_test)\n",
    "y_pred"
   ]
  },
  {
   "cell_type": "code",
   "execution_count": 12,
   "id": "0f07ae20-d922-420a-a959-eb5123b26b86",
   "metadata": {},
   "outputs": [
    {
     "name": "stdout",
     "output_type": "stream",
     "text": [
      "Classification Report:\n",
      "               precision    recall  f1-score   support\n",
      "\n",
      "           0       0.99      0.99      0.99        97\n",
      "           1       0.99      0.99      0.99       103\n",
      "\n",
      "    accuracy                           0.99       200\n",
      "   macro avg       0.99      0.99      0.99       200\n",
      "weighted avg       0.99      0.99      0.99       200\n",
      "\n"
     ]
    }
   ],
   "source": [
    "print(\"Classification Report:\\n\", classification_report(y_test, y_pred))"
   ]
  },
  {
   "cell_type": "markdown",
   "id": "cbe9d2ea-4474-46f1-ace8-e41d80c547d0",
   "metadata": {},
   "source": [
    "## ------------------------------------------------------------------------------------------------------------"
   ]
  }
 ],
 "metadata": {
  "kernelspec": {
   "display_name": "Python 3 (ipykernel)",
   "language": "python",
   "name": "python3"
  },
  "language_info": {
   "codemirror_mode": {
    "name": "ipython",
    "version": 3
   },
   "file_extension": ".py",
   "mimetype": "text/x-python",
   "name": "python",
   "nbconvert_exporter": "python",
   "pygments_lexer": "ipython3",
   "version": "3.11.7"
  }
 },
 "nbformat": 4,
 "nbformat_minor": 5
}
