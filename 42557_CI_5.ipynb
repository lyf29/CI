{
 "cells": [
  {
   "cell_type": "markdown",
   "id": "1cf09337-3e20-4eb1-ade2-1bb6f86493ea",
   "metadata": {},
   "source": [
    "<h1><center><b>Computer Laboratory III : Computational Intelligence Assignment - 5</b></center></h1>\n",
    "<h2 align=\"right\"><b>42557 - Ashish Ransing</b></h2> "
   ]
  },
  {
   "cell_type": "markdown",
   "id": "7a5e75df-2c74-4baf-a9e2-99cdb4cfaebf",
   "metadata": {},
   "source": [
    "## ------------------------------------------------------------------------------------------------------------"
   ]
  },
  {
   "cell_type": "markdown",
   "id": "1232b477-7c67-49cb-b499-a578a4c796ec",
   "metadata": {},
   "source": [
    "### **Problem Statement:**\n",
    "Implement DEAP (Distributed Evolutionary Algorithms) using Python.\r"
   ]
  },
  {
   "cell_type": "markdown",
   "id": "8b007efb-8a87-4440-8c36-9f4f991079ab",
   "metadata": {},
   "source": [
    "## ------------------------------------------------------------------------------------------------------------"
   ]
  },
  {
   "cell_type": "markdown",
   "id": "dfdf75d2-0493-4ed7-af7d-4d5322f95172",
   "metadata": {},
   "source": [
    "#### **Importing Libraries**"
   ]
  },
  {
   "cell_type": "code",
   "execution_count": 1,
   "id": "42a33b78-642a-4b68-9f96-157ea3fa1f08",
   "metadata": {},
   "outputs": [],
   "source": [
    "import random\n",
    "import numpy as np\n",
    "import matplotlib.pyplot as plt\n",
    "from deap import base, creator, tools, algorithms"
   ]
  },
  {
   "cell_type": "markdown",
   "id": "49a02b86-e775-474a-a3ad-ed0399a11a24",
   "metadata": {},
   "source": [
    "## ------------------------------------------------------------------------------------------------------------"
   ]
  },
  {
   "cell_type": "markdown",
   "id": "e5db6f6d-4295-48e2-8f3d-98afb8907d6c",
   "metadata": {},
   "source": [
    "#### **Step 1: Defining fitness function**"
   ]
  },
  {
   "cell_type": "code",
   "execution_count": 2,
   "id": "a619c7f0-f3de-41d8-8786-bd4194b43aca",
   "metadata": {},
   "outputs": [],
   "source": [
    "# Define the fitness function to maximize\n",
    "def evaluate(individual):\n",
    "    x = individual[0]\n",
    "    return x * np.sin(10 * np.pi * x) + 1.0,"
   ]
  },
  {
   "cell_type": "markdown",
   "id": "60c8f10c-9cb5-497a-8871-487a68898dc2",
   "metadata": {},
   "source": [
    "## ------------------------------------------------------------------------------------------------------------"
   ]
  },
  {
   "cell_type": "markdown",
   "id": "7ff61f63-c9cd-4cce-9704-c1433f7c5179",
   "metadata": {},
   "source": [
    "#### **Step 2: Creating Toolbox**"
   ]
  },
  {
   "cell_type": "code",
   "execution_count": 3,
   "id": "995963ea-2540-4a6d-ac38-2978f3cb3b18",
   "metadata": {},
   "outputs": [],
   "source": [
    "creator.create(\"FitnessMax\", base.Fitness, weights=(1.0,))  # Maximize\n",
    "creator.create(\"Individual\", list, fitness=creator.FitnessMax)\n",
    "\n",
    "toolbox = base.Toolbox()\n",
    "toolbox.register(\"attr_float\", random.uniform, 0, 1)  # x in [0, 1]\n",
    "toolbox.register(\"individual\", tools.initRepeat, creator.Individual, toolbox.attr_float, n=1)\n",
    "toolbox.register(\"population\", tools.initRepeat, list, toolbox.individual)\n",
    "\n",
    "toolbox.register(\"evaluate\", evaluate)\n",
    "toolbox.register(\"mate\", tools.cxBlend, alpha=0.5)\n",
    "toolbox.register(\"mutate\", tools.mutGaussian, mu=0, sigma=0.1, indpb=0.2)\n",
    "toolbox.register(\"select\", tools.selTournament, tournsize=3)"
   ]
  },
  {
   "cell_type": "markdown",
   "id": "b0c12619-c92b-4740-8c62-98701ca607fb",
   "metadata": {},
   "source": [
    "## ------------------------------------------------------------------------------------------------------------"
   ]
  },
  {
   "cell_type": "markdown",
   "id": "da2976b4-e7bd-48db-b693-9ea55d2099ff",
   "metadata": {},
   "source": [
    "#### **Step 3: Setting Parameters**"
   ]
  },
  {
   "cell_type": "code",
   "execution_count": 4,
   "id": "9dc28aae-419f-4127-b8c6-d1439dab0814",
   "metadata": {},
   "outputs": [],
   "source": [
    "population = toolbox.population(n=50)\n",
    "NGEN = 40\n",
    "CXPB = 0.7  # Crossover probability\n",
    "MUTPB = 0.2  # Mutation probability\n",
    "\n",
    "# Statistics tracking\n",
    "stats = tools.Statistics(lambda ind: ind.fitness.values)\n",
    "stats.register(\"avg\", np.mean)\n",
    "stats.register(\"max\", np.max)"
   ]
  },
  {
   "cell_type": "markdown",
   "id": "1ce1f4fb-cc10-4224-9fc3-453fd08c5e8f",
   "metadata": {},
   "source": [
    "## ------------------------------------------------------------------------------------------------------------"
   ]
  },
  {
   "cell_type": "markdown",
   "id": "7c76c79e-46f0-4919-b394-c1672f6c842d",
   "metadata": {},
   "source": [
    "#### **Step 4: Extracting Best Solution**"
   ]
  },
  {
   "cell_type": "code",
   "execution_count": 5,
   "id": "f6015deb-af77-4766-84e2-fd3030502b7c",
   "metadata": {},
   "outputs": [
    {
     "name": "stdout",
     "output_type": "stream",
     "text": [
      "gen\tnevals\tavg     \tmax   \n",
      "0  \t50    \t0.990972\t1.8033\n",
      "1  \t38    \t1.29313 \t1.84975\n",
      "2  \t36    \t1.32019 \t1.84377\n",
      "3  \t32    \t1.52201 \t1.84913\n",
      "4  \t33    \t1.68947 \t1.85013\n",
      "5  \t37    \t1.83194 \t1.85054\n",
      "6  \t44    \t1.84516 \t1.85058\n",
      "7  \t34    \t1.75475 \t1.85059\n",
      "8  \t35    \t1.80999 \t1.85059\n",
      "9  \t39    \t1.81123 \t1.8506 \n",
      "10 \t43    \t1.84425 \t1.8506 \n",
      "11 \t36    \t1.85059 \t1.8506 \n",
      "12 \t44    \t1.85059 \t1.8506 \n",
      "13 \t43    \t1.82039 \t1.8506 \n",
      "14 \t42    \t1.8506  \t1.8506 \n",
      "15 \t36    \t1.80719 \t1.8506 \n",
      "16 \t30    \t1.81102 \t1.8506 \n",
      "17 \t34    \t1.82278 \t1.8506 \n",
      "18 \t39    \t1.8504  \t1.8506 \n",
      "19 \t39    \t1.81603 \t1.8506 \n",
      "20 \t43    \t1.78885 \t1.8506 \n",
      "21 \t41    \t1.79742 \t1.8506 \n",
      "22 \t39    \t1.81174 \t2.01625\n",
      "23 \t38    \t1.75403 \t2.01625\n",
      "24 \t45    \t1.48538 \t2.05047\n",
      "25 \t43    \t1.54014 \t2.05047\n",
      "26 \t33    \t1.62939 \t2.05047\n",
      "27 \t40    \t1.7519  \t2.05047\n",
      "28 \t33    \t1.88211 \t2.05048\n",
      "29 \t36    \t2.04804 \t2.05048\n",
      "30 \t42    \t2.05032 \t2.05048\n",
      "31 \t43    \t2.05048 \t2.05048\n",
      "32 \t41    \t1.92578 \t2.05048\n",
      "33 \t31    \t1.99114 \t2.05048\n",
      "34 \t32    \t1.96528 \t2.05048\n",
      "35 \t40    \t2.00811 \t2.05048\n",
      "36 \t34    \t2.03599 \t2.05048\n",
      "37 \t37    \t2.01003 \t2.05048\n",
      "38 \t35    \t2.02092 \t2.05048\n",
      "39 \t39    \t2.00853 \t2.05048\n",
      "40 \t36    \t1.95493 \t2.05048\n",
      "\n",
      "Best individual: x = 1.0510, f(x) = 2.0505\n"
     ]
    }
   ],
   "source": [
    "population, logbook = algorithms.eaSimple(population, toolbox, cxpb=CXPB, mutpb=MUTPB, ngen=NGEN,\n",
    "                                          stats=stats, verbose=True)\n",
    "\n",
    "\n",
    "best_ind = tools.selBest(population, 1)[0]\n",
    "print(f\"\\nBest individual: x = {best_ind[0]:.4f}, f(x) = {evaluate(best_ind)[0]:.4f}\")"
   ]
  },
  {
   "cell_type": "markdown",
   "id": "cbe9d2ea-4474-46f1-ace8-e41d80c547d0",
   "metadata": {},
   "source": [
    "## ------------------------------------------------------------------------------------------------------------"
   ]
  }
 ],
 "metadata": {
  "kernelspec": {
   "display_name": "Python 3 (ipykernel)",
   "language": "python",
   "name": "python3"
  },
  "language_info": {
   "codemirror_mode": {
    "name": "ipython",
    "version": 3
   },
   "file_extension": ".py",
   "mimetype": "text/x-python",
   "name": "python",
   "nbconvert_exporter": "python",
   "pygments_lexer": "ipython3",
   "version": "3.11.7"
  }
 },
 "nbformat": 4,
 "nbformat_minor": 5
}
